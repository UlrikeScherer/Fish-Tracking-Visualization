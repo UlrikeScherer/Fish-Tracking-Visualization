{
 "cells": [
  {
   "cell_type": "code",
   "execution_count": 234,
   "metadata": {},
   "outputs": [],
   "source": [
    "### Step-lenght\n",
    "### sum of angles\n",
    "### Number of spikes\n"
   ]
  },
  {
   "cell_type": "code",
   "execution_count": 334,
   "metadata": {},
   "outputs": [
    {
     "name": "stdout",
     "output_type": "stream",
     "text": [
      "The autoreload extension is already loaded. To reload it, use:\n",
      "  %reload_ext autoreload\n"
     ]
    }
   ],
   "source": [
    "from src.utile import *\n",
    "from src.metrics import *\n",
    "import numpy as np\n",
    "import matplotlib.pyplot as plt\n",
    "import time\n",
    "import math\n",
    "%load_ext autoreload\n",
    "%autoreload 2"
   ]
  },
  {
   "cell_type": "code",
   "execution_count": 142,
   "metadata": {},
   "outputs": [
    {
     "name": "stdout",
     "output_type": "stream",
     "text": [
      "23520289 20210910_1550\n"
     ]
    }
   ],
   "source": [
    "cameras = get_camera_names()\n",
    "days = get_days_in_order()\n",
    "camera, day = cameras[0], days[0]\n",
    "print(camera, day)\n",
    "batches = csv_of_the_day(camera, day, drop_out_of_scope=True)[1]\n",
    "\n",
    "\n",
    "#mean_sd()\n"
   ]
  },
  {
   "cell_type": "code",
   "execution_count": 74,
   "metadata": {},
   "outputs": [
    {
     "name": "stdout",
     "output_type": "stream",
     "text": [
      "(0.37466555459917195, 1.2192206489892274) -267.0342336162735 6737\n",
      "(0.8463271637012068, 0.5593609892478465) -326.140291042752 9998\n",
      "(0.7679714910613318, 0.8643009623256221) -464.55691634854713 9999\n",
      "(0.8192560318665729, 1.0638047232779972) -431.106016428941 8405\n"
     ]
    }
   ],
   "source": [
    "for b in batches:\n",
    "    c = calc_length_of_steps(b)\n",
    "    m, sa = mean_sd(c), sum_of_angles(b)\n",
    "    print(m, sa, len(b))"
   ]
  },
  {
   "cell_type": "code",
   "execution_count": 64,
   "metadata": {},
   "outputs": [
    {
     "data": {
      "text/plain": [
       "(0.0, 1.5707963267948966, 1.5707963267948966, -1.5707963267948966)"
      ]
     },
     "execution_count": 64,
     "metadata": {},
     "output_type": "execute_result"
    }
   ],
   "source": [
    "v = unit_vector([0, 1])\n",
    "u = unit_vector([1,0])\n",
    "alpha2 = angle(u,v)\n",
    "\n",
    "cos, alpha1, alpha2, direction_angle(u, v)"
   ]
  },
  {
   "cell_type": "code",
   "execution_count": 195,
   "metadata": {},
   "outputs": [
    {
     "data": {
      "text/plain": [
       "<function src.metrics.meta_text_for_plot.<locals>.<lambda>()>"
      ]
     },
     "execution_count": 195,
     "metadata": {},
     "output_type": "execute_result"
    },
    {
     "data": {
      "image/png": "[encoded data removed]",
      "text/plain": [
       "<Figure size 360x180 with 1 Axes>"
      ]
     },
     "metadata": {
      "needs_background": "light"
     },
     "output_type": "display_data"
    }
   ],
   "source": [
    "fig, ax = plt.subplots(figsize=(5,2.5))\n",
    "is_back=False\n",
    "xlim=[-5, 90]\n",
    "ylim=[-40, 2]\n",
    "if is_back: ylim=[-2, 40] \n",
    "ax.set_ylim(ylim)\n",
    "#ax.set_xlabel('x coordinate')\n",
    "ax.set_xlim(xlim)\n",
    "line, = ax.plot(xlim, ylim,'b-', alpha=0.7, solid_capstyle=\"projecting\")\n",
    "\n",
    "lam = meta_text_for_plot(ax, batches[0], is_back=is_back)\n",
    "lam()\n",
    "meta_text_for_plot(ax, batches[1], is_back=is_back)\n"
   ]
  },
  {
   "cell_type": "code",
   "execution_count": 80,
   "metadata": {},
   "outputs": [
    {
     "data": {
      "text/plain": [
       "4"
      ]
     },
     "execution_count": 80,
     "metadata": {},
     "output_type": "execute_result"
    }
   ],
   "source": [
    "v = [1,1]\n",
    "v_norm = np.linalg.norm(v)\n",
    "u = [0.1,1]\n",
    "u_norm = u = np.linalg.norm(u)\n",
    "alpha = np.arccos(np.dot([0.3,1],[1,1])/(1*v_norm))\n",
    "a = np.array([1,2,3,4])\n",
    "a.size"
   ]
  },
  {
   "cell_type": "code",
   "execution_count": 148,
   "metadata": {},
   "outputs": [
    {
     "data": {
      "text/plain": [
       "3.141592653589793"
      ]
     },
     "execution_count": 148,
     "metadata": {},
     "output_type": "execute_result"
    },
    {
     "data": {
      "image/png": "[encoded data removed]",
      "text/plain": [
       "<Figure size 432x288 with 1 Axes>"
      ]
     },
     "metadata": {
      "needs_background": "light"
     },
     "output_type": "display_data"
    }
   ],
   "source": [
    "plt.plot([np.cos(x) for x in np.arange(0,10,0.1)])\n",
    "np.arccos(0)"
   ]
  },
  {
   "cell_type": "code",
   "execution_count": 229,
   "metadata": {},
   "outputs": [
    {
     "name": "stdout",
     "output_type": "stream",
     "text": [
      " "
     ]
    },
    {
     "data": {
      "text/plain": [
       "         2018145 function calls (1996898 primitive calls) in 3.963 seconds\n",
       "\n",
       "   Ordered by: internal time\n",
       "   List reduced from 649 to 8 due to restriction <8>\n",
       "\n",
       "   ncalls  tottime  percall  cumtime  percall filename:lineno(function)\n",
       "      235    1.801    0.008    1.887    0.008 {method 'read' of 'pandas._libs.parsers.TextReader' objects}\n",
       "      235    0.408    0.002    0.486    0.002 parsers.py:1853(__init__)\n",
       "413180/412710    0.093    0.000    0.151    0.000 {built-in method builtins.isinstance}\n",
       "      607    0.068    0.000    0.071    0.000 base.py:1764(is_unique)\n",
       "     1823    0.064    0.000    0.064    0.000 {built-in method _codecs.utf_8_decode}\n",
       "     1777    0.043    0.000    0.045    0.000 glob.py:117(_iterdir)\n",
       "   151708    0.040    0.000    0.055    0.000 generic.py:30(_check)\n",
       "     1684    0.033    0.000    0.039    0.000 {pandas._libs.lib.infer_dtype}"
      ]
     },
     "metadata": {},
     "output_type": "display_data"
    }
   ],
   "source": [
    "%prun -l 8 data = [csv_of_the_day(cameras[0],d, drop_out_of_scope=True) for d in days]"
   ]
  },
  {
   "cell_type": "code",
   "execution_count": 337,
   "metadata": {},
   "outputs": [],
   "source": [
    "data = csv_of_the_day(cameras[0],days[1], drop_out_of_scope=True)"
   ]
  },
  {
   "cell_type": "code",
   "execution_count": null,
   "metadata": {},
   "outputs": [],
   "source": []
  },
  {
   "cell_type": "code",
   "execution_count": 328,
   "metadata": {},
   "outputs": [
    {
     "name": "stdout",
     "output_type": "stream",
     "text": [
      "../FE_block1_autotracks_front/23484201/20210911_060000.23484201/23484201_20210911_060000.23484201_000005_2021-11-13T13_28_44_6588.csv ../FE_block1_autotracks_front 23520289 20210911_0600\n"
     ]
    }
   ],
   "source": [
    "import glob\n",
    "filename = glob.glob(\"{}/{}/{}*/*.csv\".format(dir_front, cameras[1], days[1]), recursive=True)[0]\n",
    "print(filename, dir_front, cameras[0], days[1])                   \n",
    "df = dd.read_csv(filename,skiprows=3, delimiter=';', error_bad_lines=False, usecols=[\"x\", \"y\", \"FRAME\", \"time\", \"xpx\", \"ypx\"])\n",
    "df = df.dropna()\n",
    "df = dask.compute(df)[0]\n",
    "indexNames = df[ df['x'] == -1].index\n",
    "df = df.drop(indexNames)"
   ]
  },
  {
   "cell_type": "code",
   "execution_count": 129,
   "metadata": {},
   "outputs": [
    {
     "data": {
      "image/png": "[encoded data removed]",
      "text/plain": [
       "<Figure size 432x288 with 1 Axes>"
      ]
     },
     "metadata": {
      "needs_background": "light"
     },
     "output_type": "display_data"
    }
   ],
   "source": [
    "h=plt.hist(c,log=True, bins=100)"
   ]
  },
  {
   "cell_type": "code",
   "execution_count": 212,
   "metadata": {},
   "outputs": [
    {
     "name": "stdout",
     "output_type": "stream",
     "text": [
      "True\n"
     ]
    }
   ],
   "source": [
    "import re\n",
    "if re.search(r'[0...9].*\\.csv$', \"asf_0234s.csv\"):\n",
    "    print(\"True\")"
   ]
  },
  {
   "cell_type": "code",
   "execution_count": 215,
   "metadata": {},
   "outputs": [
    {
     "data": {
      "text/plain": [
       "'_0234s.csv'"
      ]
     },
     "execution_count": 215,
     "metadata": {},
     "output_type": "execute_result"
    }
   ],
   "source": [
    "f = \"asf_0234s.csv\"\n",
    "f[-10:]"
   ]
  },
  {
   "cell_type": "code",
   "execution_count": null,
   "metadata": {},
   "outputs": [],
   "source": []
  }
 ],
 "metadata": {
  "kernelspec": {
   "display_name": "Python 3",
   "language": "python",
   "name": "python3"
  },
  "language_info": {
   "codemirror_mode": {
    "name": "ipython",
    "version": 3
   },
   "file_extension": ".py",
   "mimetype": "text/x-python",
   "name": "python",
   "nbconvert_exporter": "python",
   "pygments_lexer": "ipython3",
   "version": "3.9.7"
  }
 },
 "nbformat": 4,
 "nbformat_minor": 4
}
