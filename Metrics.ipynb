{
 "cells": [
  {
   "cell_type": "code",
   "execution_count": 1,
   "metadata": {},
   "outputs": [],
   "source": [
    "### Step-lenght\n",
    "### sum of angles\n",
    "### Number of spikes"
   ]
  },
  {
   "cell_type": "code",
   "execution_count": 3,
   "metadata": {},
   "outputs": [
    {
     "name": "stdout",
     "output_type": "stream",
     "text": [
      "The autoreload extension is already loaded. To reload it, use:\n",
      "  %reload_ext autoreload\n"
     ]
    }
   ],
   "source": [
    "from src.utile import *\n",
    "import numpy as np\n",
    "import matplotlib.pyplot as plt\n",
    "import time\n",
    "import math\n",
    "%load_ext autoreload\n",
    "%autoreload 2"
   ]
  },
  {
   "cell_type": "code",
   "execution_count": 73,
   "metadata": {},
   "outputs": [
    {
     "name": "stdout",
     "output_type": "stream",
     "text": [
      "23520289 20210910_1550\n"
     ]
    }
   ],
   "source": [
    "cameras = get_camera_names()\n",
    "days = get_days_in_order()\n",
    "camera, day = cameras[0], days[0]\n",
    "print(camera, day)\n",
    "batches = csv_of_the_day(camera, day, drop_out_of_scope=True)[1]\n",
    "\n",
    "def mean_sd(array):\n",
    "    mean = np.mean(array)\n",
    "    sd = np.std(array)\n",
    "    return mean, sd\n",
    "\n",
    "def calc_length_of_steps(df):\n",
    "    ysq = (df.shift(1).y - df.y)**2\n",
    "    xsq = (df.shift(1).x - df.x)**2\n",
    "    c=np.sqrt(ysq[1:] + xsq[1:])\n",
    "    return c\n",
    "\n",
    "def unit_vector(vector):\n",
    "    \"\"\" Returns the unit vector of the vector.  \"\"\"\n",
    "    norm = np.linalg.norm(vector)\n",
    "    if norm == 0:\n",
    "        return np.array([np.nan, np.nan])\n",
    "    return vector / norm\n",
    "\n",
    "def determinant(v,w):\n",
    "    \"\"\" Determinant of two vectors. \"\"\"\n",
    "    return v[0]*w[1]-v[1]*w[0]\n",
    "\n",
    "def direction_angle(v,w):\n",
    "    \"\"\" Return the angle between v,w anti clockwise from direction v to m. \"\"\"\n",
    "    cos = np.dot(v,w)\n",
    "    r = np.arccos(np.clip(cos, -1, 1))\n",
    "    det = determinant(v,w)\n",
    "    if det < 0: \n",
    "        return r\n",
    "    else:\n",
    "        return -r\n",
    "    \n",
    "def angle(v,w):\n",
    "    cos = np.dot(v,w)\n",
    "    return np.arccos(np.clip(cos, -1, 1))\n",
    "\n",
    "def sum_of_angles(df):\n",
    "    y = (df.shift(1).ypx - df.ypx)\n",
    "    x = (df.shift(1).xpx - df.xpx)\n",
    "    if len(x) == 0:\n",
    "        return 0\n",
    "    u = unit_vector([x[1],y[1]])\n",
    "    sum_alpha = 0\n",
    "    for i in range(2,y.size):\n",
    "        v = unit_vector([x[i],y[i]])\n",
    "        if np.any(np.isnan(v)):\n",
    "            continue\n",
    "        if np.any(np.isnan(u)):\n",
    "            u = v\n",
    "            continue\n",
    "        alpha = direction_angle(u,v)\n",
    "        sum_alpha += alpha\n",
    "        u = v\n",
    "    return sum_alpha\n",
    "\n",
    "#mean_sd()\n"
   ]
  },
  {
   "cell_type": "code",
   "execution_count": 74,
   "metadata": {},
   "outputs": [
    {
     "name": "stdout",
     "output_type": "stream",
     "text": [
      "(0.37466555459917195, 1.2192206489892274) -267.0342336162735 6737\n",
      "(0.8463271637012068, 0.5593609892478465) -326.140291042752 9998\n",
      "(0.7679714910613318, 0.8643009623256221) -464.55691634854713 9999\n",
      "(0.8192560318665729, 1.0638047232779972) -431.106016428941 8405\n"
     ]
    }
   ],
   "source": [
    "for b in batches:\n",
    "    c = calc_length_of_steps(b)\n",
    "    m, sa = mean_sd(c), sum_of_angles(b)\n",
    "    print(m, sa, len(b))"
   ]
  },
  {
   "cell_type": "code",
   "execution_count": 64,
   "metadata": {},
   "outputs": [
    {
     "data": {
      "text/plain": [
       "(0.0, 1.5707963267948966, 1.5707963267948966, -1.5707963267948966)"
      ]
     },
     "execution_count": 64,
     "metadata": {},
     "output_type": "execute_result"
    }
   ],
   "source": [
    "v = unit_vector([0, 1])\n",
    "u = unit_vector([1,0])\n",
    "alpha2 = angle(u,v)\n",
    "\n",
    "cos, alpha1, alpha2, direction_angle(u, v)"
   ]
  },
  {
   "cell_type": "code",
   "execution_count": 226,
   "metadata": {},
   "outputs": [
    {
     "data": {
      "text/plain": [
       "8.192756674004925e-05"
      ]
     },
     "execution_count": 226,
     "metadata": {},
     "output_type": "execute_result"
    }
   ],
   "source": [
    "np.arccos(np.dot([-0.70710678, -0.70710678],[-0.70710678, -0.70710678]) )"
   ]
  },
  {
   "cell_type": "code",
   "execution_count": 170,
   "metadata": {},
   "outputs": [
    {
     "data": {
      "text/plain": [
       "[0, 1, 2, 3]"
      ]
     },
     "execution_count": 170,
     "metadata": {},
     "output_type": "execute_result"
    }
   ],
   "source": [
    "v = [1,1]\n",
    "v_norm = np.linalg.norm(v)\n",
    "u = [0.1,1]\n",
    "u_norm = u = np.linalg.norm(u)\n",
    "alpha = np.arccos(np.dot([0.3,1],[1,1])/(1*v_norm))\n",
    "a = np.array([1,2,3,4])\n",
    "a.size"
   ]
  },
  {
   "cell_type": "code",
   "execution_count": 148,
   "metadata": {},
   "outputs": [
    {
     "data": {
      "text/plain": [
       "3.141592653589793"
      ]
     },
     "execution_count": 148,
     "metadata": {},
     "output_type": "execute_result"
    },
    {
     "data": {
      "image/png": "[encoded data removed]",
      "text/plain": [
       "<Figure size 432x288 with 1 Axes>"
      ]
     },
     "metadata": {
      "needs_background": "light"
     },
     "output_type": "display_data"
    }
   ],
   "source": [
    "plt.plot([np.cos(x) for x in np.arange(0,10,0.1)])\n",
    "np.arccos(0)"
   ]
  },
  {
   "cell_type": "code",
   "execution_count": null,
   "metadata": {},
   "outputs": [],
   "source": []
  },
  {
   "cell_type": "code",
   "execution_count": 125,
   "metadata": {},
   "outputs": [
    {
     "data": {
      "text/plain": [
       "((0.5853014403137901, 1.0988627313719792), 6740)"
      ]
     },
     "execution_count": 125,
     "metadata": {},
     "output_type": "execute_result"
    }
   ],
   "source": [
    "\n",
    "mean_sd(c), len(c)"
   ]
  },
  {
   "cell_type": "code",
   "execution_count": 129,
   "metadata": {},
   "outputs": [
    {
     "data": {
      "image/png": "[encoded data removed]",
      "text/plain": [
       "<Figure size 432x288 with 1 Axes>"
      ]
     },
     "metadata": {
      "needs_background": "light"
     },
     "output_type": "display_data"
    }
   ],
   "source": [
    "h=plt.hist(c,log=True, bins=100)"
   ]
  },
  {
   "cell_type": "code",
   "execution_count": null,
   "metadata": {},
   "outputs": [],
   "source": []
  }
 ],
 "metadata": {
  "kernelspec": {
   "display_name": "Python 3",
   "language": "python",
   "name": "python3"
  },
  "language_info": {
   "codemirror_mode": {
    "name": "ipython",
    "version": 3
   },
   "file_extension": ".py",
   "mimetype": "text/x-python",
   "name": "python",
   "nbconvert_exporter": "python",
   "pygments_lexer": "ipython3",
   "version": "3.9.7"
  }
 },
 "nbformat": 4,
 "nbformat_minor": 4
}
