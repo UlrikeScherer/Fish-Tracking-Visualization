{
 "cells": [
  {
   "cell_type": "code",
   "execution_count": 1,
   "metadata": {},
   "outputs": [
    {
     "name": "stdout",
     "output_type": "stream",
     "text": [
      "3.9.7\n"
     ]
    }
   ],
   "source": [
    "import pandas as pd\n",
    "\n",
    "import time\n",
    "import matplotlib as mpl\n",
    "from cycler import cycler\n",
    "import math\n",
    "import numpy as np\n",
    "from PyPDF2 import PdfFileMerger\n",
    "#mpl.use('pgf')\n",
    "from src.utile import *\n",
    "from src.metrics import *\n",
    "from src.global_calculations import *\n",
    "from src.visualisation import *\n",
    "from methods import avg_and_sum_angles\n",
    "import matplotlib.pyplot as plt\n",
    "\n",
    "mpl.rcParams['lines.linewidth'] = 0.5\n",
    "mpl.rcParams['lines.linestyle'] = '-'\n",
    "mpl.rcParams['lines.markersize'] = 1.0\n",
    "mpl.rcParams[\"figure.figsize\"] = (4,2)\n",
    "#plt.rc('text', usetex=True)\n",
    "#plt.rc('font', family='serif')\n",
    "#plt.rcParams['pgf.preamble'] = [r'\\usepackage{hyperref} \\hypersetup{hidelinks,''colorlinks=true, urlcolor=cyan}', ]\n",
    "#plt.rcParams['pgf.preamble'] = [r'\\usepackage{hyperref}',]\n",
    "\n",
    "from platform import python_version\n",
    "print(python_version())\n",
    "%load_ext autoreload\n",
    "%autoreload 2\n",
    "%load_ext line_profiler"
   ]
  },
  {
   "cell_type": "code",
   "execution_count": 2,
   "metadata": {},
   "outputs": [],
   "source": [
    "if False:\n",
    "    plt.rcParams.update({\n",
    "    \"font.family\": \"serif\",  # use serif/main font for text elements\n",
    "    \"text.usetex\": True,     # use inline math for ticks\n",
    "    \"pgf.rcfonts\": False,    # don't setup fonts from rc parameters\n",
    "    \"pgf.preamble\": '\\n'.join([\n",
    "         r'\\usepackage{url}',            # load additional packages\n",
    "         r'\\usepackage{unicode-math}',   # unicode math setup\n",
    "         #r'\\setmainfont{DejaVu Serif}'',  # serif font via preamble\n",
    "         r'\\usepackage{hyperref}',\n",
    "        r'\\usepackage{pgfplots}',\n",
    "        r'\\usepgfplotslibrary{external}',\n",
    "        r'\\tikzexternalize{main}',\n",
    "        r'\\tikzsetexternalprefix{external_figs/}',\n",
    "    ])\n",
    "    })\n"
   ]
  },
  {
   "cell_type": "code",
   "execution_count": 3,
   "metadata": {},
   "outputs": [],
   "source": [
    "cameras = get_camera_names()\n",
    "days = get_days_in_order()"
   ]
  },
  {
   "cell_type": "code",
   "execution_count": 4,
   "metadata": {},
   "outputs": [],
   "source": [
    "# how to run the calculation for the global mean and sd\n",
    "#gm = global_mean(cameras, days)\n",
    "#gsd = global_sd(cameras, days, gm)"
   ]
  },
  {
   "cell_type": "code",
   "execution_count": null,
   "metadata": {},
   "outputs": [],
   "source": []
  },
  {
   "cell_type": "code",
   "execution_count": 5,
   "metadata": {},
   "outputs": [],
   "source": [
    "batches = csv_of_the_day(cameras[0], days[0], is_back=True, drop_out_of_scope=True)"
   ]
  },
  {
   "cell_type": "code",
   "execution_count": 6,
   "metadata": {},
   "outputs": [
    {
     "data": {
      "text/plain": [
       "(0.2299252954439671, -244.51763790810918)"
      ]
     },
     "execution_count": 6,
     "metadata": {},
     "output_type": "execute_result"
    }
   ],
   "source": [
    "b = batches[1]\n",
    "avg_and_sum_angles(b)"
   ]
  },
  {
   "cell_type": "code",
   "execution_count": 7,
   "metadata": {},
   "outputs": [
    {
     "name": "stdout",
     "output_type": "stream",
     "text": [
      "1.33 ms ± 24.8 µs per loop (mean ± std. dev. of 7 runs, 1000 loops each)\n"
     ]
    }
   ],
   "source": [
    "%timeit avg_and_sum_angles(b)"
   ]
  },
  {
   "cell_type": "code",
   "execution_count": null,
   "metadata": {},
   "outputs": [],
   "source": []
  },
  {
   "cell_type": "code",
   "execution_count": null,
   "metadata": {},
   "outputs": [],
   "source": []
  },
  {
   "cell_type": "code",
   "execution_count": null,
   "metadata": {},
   "outputs": [],
   "source": []
  },
  {
   "cell_type": "code",
   "execution_count": null,
   "metadata": {},
   "outputs": [],
   "source": []
  },
  {
   "cell_type": "code",
   "execution_count": null,
   "metadata": {},
   "outputs": [],
   "source": []
  },
  {
   "cell_type": "code",
   "execution_count": null,
   "metadata": {},
   "outputs": [],
   "source": []
  },
  {
   "cell_type": "code",
   "execution_count": 65,
   "metadata": {},
   "outputs": [],
   "source": [
    "from matplotlib.backends.backend_pdf import PdfPages\n",
    "\n",
    "\"\"\"\n",
    "@params days: [(folder, start_time)]\n",
    "\"\"\"\n",
    "def pdf_for_fish(camera_id, days,is_back=False):\n",
    "    position_str = get_position_string(is_back)\n",
    "    \n",
    "    with PdfPages('trajectory_{}_{}_{}_{}.pdf'.format(\n",
    "        camera_id,position_str,\n",
    "        get_date(days[0]), \n",
    "        get_date(days[-1])\n",
    "    )) as pdf:\n",
    "        for day in days:\n",
    "            day_df = csv_of_the_day(camera_id, day, is_back)\n",
    "            fig = plot_day_camera(day_df, camera_id, day, is_back=is_back)\n",
    "            pdf.savefig(fig, bbox_inches='tight')\n",
    "            \n",
    "def pdf_for_fish_tex(camera_id,days,is_back=False):\n",
    "    position_str = get_position_string(is_back)\n",
    "    \n",
    "    merger = PdfFileMerger()\n",
    "    for day in days:\n",
    "        day_df = csv_of_the_day(camera_id, day, is_back)\n",
    "        fig = plot_day_camera(day_df, camera_id, day, is_back)\n",
    "        out = './out{}.pdf'.format(day)\n",
    "        fig.savefig(out, bbox_inches='tight')\n",
    "        merger.append(out)\n",
    "        os.remove(out)\n",
    "\n",
    "    merger.write('./trajectory_{}_{}_{}_{}.pdf'.format(\n",
    "            camera_id,\n",
    "            position_str,\n",
    "            get_date(days[0]), \n",
    "            get_date(days[-1])\n",
    "        ))\n",
    "    merger.close()"
   ]
  },
  {
   "cell_type": "code",
   "execution_count": 117,
   "metadata": {},
   "outputs": [
    {
     "data": {
      "image/png": "[encoded data removed]",
      "text/plain": [
       "<Figure size 360x180 with 1 Axes>"
      ]
     },
     "metadata": {
      "needs_background": "light"
     },
     "output_type": "display_data"
    },
    {
     "data": {
      "image/png": "[encoded data removed]",
      "text/plain": [
       "<Figure size 360x180 with 1 Axes>"
      ]
     },
     "metadata": {
      "needs_background": "light"
     },
     "output_type": "display_data"
    },
    {
     "name": "stdout",
     "output_type": "stream",
     "text": [
      "13.010160207748413\n"
     ]
    }
   ],
   "source": [
    "tstart = time.time()\n",
    "plots_for_tex(cameras[:1], days[:2], dpi=100)\n",
    "print(time.time()-tstart)"
   ]
  },
  {
   "cell_type": "code",
   "execution_count": 118,
   "metadata": {},
   "outputs": [
    {
     "data": {
      "image/png": "[encoded data removed]",
      "text/plain": [
       "<Figure size 360x180 with 1 Axes>"
      ]
     },
     "metadata": {
      "needs_background": "light"
     },
     "output_type": "display_data"
    },
    {
     "data": {
      "image/png": "[encoded data removed]",
      "text/plain": [
       "<Figure size 360x180 with 1 Axes>"
      ]
     },
     "metadata": {
      "needs_background": "light"
     },
     "output_type": "display_data"
    },
    {
     "name": "stdout",
     "output_type": "stream",
     "text": [
      "1086.4027569293976\n"
     ]
    }
   ],
   "source": [
    "tstart = time.time()\n",
    "plots_for_tex(cameras[:3], days, dpi=100)\n",
    "print(time.time()-tstart)"
   ]
  },
  {
   "cell_type": "code",
   "execution_count": 21,
   "metadata": {},
   "outputs": [
    {
     "data": {
      "text/plain": [
       "['23520289', '23484201', '23520258']"
      ]
     },
     "execution_count": 21,
     "metadata": {},
     "output_type": "execute_result"
    }
   ],
   "source": [
    "cameras[:3]"
   ]
  },
  {
   "cell_type": "code",
   "execution_count": 97,
   "metadata": {},
   "outputs": [
    {
     "data": {
      "image/png": "[encoded data removed]",
      "text/plain": [
       "<Figure size 288x144 with 1 Axes>"
      ]
     },
     "metadata": {
      "needs_background": "light"
     },
     "output_type": "display_data"
    },
    {
     "name": "stdout",
     "output_type": "stream",
     "text": [
      "73.2\n"
     ]
    }
   ],
   "source": [
    "df= csv_of_the_day(cameras[0], days[2], drop_out_of_scope=False)\n",
    "fig, ax = plt.subplots()\n",
    "plt.tight_layout()\n",
    "line, = ax.plot(df[1].x,df[1].y,'b-', alpha=0.7, solid_capstyle=\"projecting\")\n",
    "plt.show(block=False)\n",
    "tstart = time.time()\n",
    "num_plots = 0\n",
    "while time.time()-tstart < 5:\n",
    "    idx = num_plots % len(df)\n",
    "    line.set_data(df[idx].x, df[idx].y)\n",
    "    #ax.draw_artist(ax.patch)\n",
    "    #ax.draw_artist(line)\n",
    "    num_plots += 1\n",
    "    fig.savefig(\"out.jpeg\")\n",
    "print(num_plots/5)"
   ]
  },
  {
   "cell_type": "code",
   "execution_count": null,
   "metadata": {},
   "outputs": [],
   "source": []
  },
  {
   "cell_type": "code",
   "execution_count": null,
   "metadata": {},
   "outputs": [],
   "source": []
  },
  {
   "cell_type": "code",
   "execution_count": null,
   "metadata": {},
   "outputs": [],
   "source": []
  },
  {
   "cell_type": "code",
   "execution_count": 116,
   "metadata": {},
   "outputs": [],
   "source": []
  },
  {
   "cell_type": "code",
   "execution_count": 61,
   "metadata": {},
   "outputs": [],
   "source": [
    "ROOT_img = \"plots\"\n",
    "\n",
    "def plot_day_camera(data, camera_id, date, is_back=False, write_single_plots=False, dpi=50):\n",
    "    xlim=[-5, 90]\n",
    "    ylim=[-40, 2]\n",
    "    nrows=4\n",
    "    ncols=4\n",
    "    position = get_position_string(is_back)\n",
    "    title=\"{}\\nTrajectory over time of the molly at\\n camera: {}\\n position: {}\".format(\n",
    "        get_full_date(date),\n",
    "        camera_id,\n",
    "        position\n",
    "    )\n",
    "    if is_back: ylim=[-2, 40] \n",
    "        \n",
    "    if write_single_plots:\n",
    "        axis = [[plt for j in range(ncols)] for i in range(nrows)]\n",
    "    else:\n",
    "        fig, axis = plt.subplots(figsize=(4*ncols,2*nrows), nrows=nrows, ncols=ncols, sharex=True, sharey=True)\n",
    "        fig.suptitle(title,x=0.22, y=0.85)\n",
    "    \n",
    "    nr_of_frames = 0\n",
    "    \n",
    "    for i in range(nrows):\n",
    "        axis[i][0].ylabel('y coordinate')\n",
    "        axis[i][0].ylim(ylim)\n",
    "        \n",
    "        for j in range(ncols):\n",
    "            if (i == j and j == 0):\n",
    "                if not write_single_plots:\n",
    "                    axis[i][j].axis('off')\n",
    "                continue\n",
    "            if (i==nrows-1):\n",
    "                axis[-1][j].xlabel('x coordinate')\n",
    "                axis[-1][j].xlim(xlim)\n",
    "            idx = i * ncols + j - 1\n",
    "            if idx >= len(data):\n",
    "                break\n",
    "            low, up = 0, len(data[idx].x)-1\n",
    "            label='All trajectory points front '\n",
    "            batch_size= 100\n",
    "            time_span=\"{} - {}\".format(get_time_for_day(date,nr_of_frames),get_time_for_day(date, nr_of_frames+data[idx].FRAME[up]))\n",
    "            nr_of_frames+=data[idx].FRAME[up]\n",
    "            if write_single_plots:\n",
    "                axis[i][j].title(time_span,fontsize=10)\n",
    "            else:\n",
    "                axis[i][j].set_title(time_span,fontsize=10)\n",
    "        \n",
    "            for k in range(low,up, batch_size-1):\n",
    "                axis[i][j].plot(data[idx].x[k:k+batch_size], data[idx].y[k:k+batch_size],'b-', alpha=0.3, solid_capstyle=\"projecting\")\n",
    "    # ax.plot(day1[1].x[:limit], day1[1].y[:limit], 'r-', label='All trajectory points back ')\n",
    "            if write_single_plots:\n",
    "                data_dir = \"{}/{}/{}/{}\".format(ROOT_img, position, camera_id, date)\n",
    "                if not os.path.isdir(data_dir):\n",
    "                    os.makedirs(data_dir, exist_ok=True)\n",
    "                plt.savefig(\"{}/{}{}.png\".format(data_dir,i,j), dpi=dpi)\n",
    "                plt.close()\n",
    "    \n",
    "    if write_single_plots:\n",
    "        return None;\n",
    "    plt.close(fig)\n",
    "    return fig"
   ]
  },
  {
   "cell_type": "code",
   "execution_count": null,
   "metadata": {},
   "outputs": [],
   "source": []
  },
  {
   "cell_type": "code",
   "execution_count": null,
   "metadata": {},
   "outputs": [],
   "source": []
  },
  {
   "cell_type": "code",
   "execution_count": null,
   "metadata": {},
   "outputs": [],
   "source": []
  },
  {
   "cell_type": "code",
   "execution_count": null,
   "metadata": {},
   "outputs": [],
   "source": []
  },
  {
   "cell_type": "code",
   "execution_count": null,
   "metadata": {},
   "outputs": [],
   "source": []
  },
  {
   "cell_type": "code",
   "execution_count": null,
   "metadata": {},
   "outputs": [],
   "source": []
  },
  {
   "cell_type": "code",
   "execution_count": null,
   "metadata": {},
   "outputs": [],
   "source": []
  },
  {
   "cell_type": "code",
   "execution_count": null,
   "metadata": {},
   "outputs": [],
   "source": []
  },
  {
   "cell_type": "code",
   "execution_count": null,
   "metadata": {},
   "outputs": [],
   "source": []
  },
  {
   "cell_type": "code",
   "execution_count": 94,
   "metadata": {},
   "outputs": [
    {
     "data": {
      "image/png": "[encoded data removed]",
      "text/plain": [
       "<Figure size 432x288 with 1 Axes>"
      ]
     },
     "metadata": {
      "needs_background": "light"
     },
     "output_type": "display_data"
    }
   ],
   "source": [
    "h2 = plt.hist(day1[0].y, bins=100)"
   ]
  },
  {
   "cell_type": "code",
   "execution_count": null,
   "metadata": {},
   "outputs": [],
   "source": []
  }
 ],
 "metadata": {
  "kernelspec": {
   "display_name": "Python 3",
   "language": "python",
   "name": "python3"
  },
  "language_info": {
   "codemirror_mode": {
    "name": "ipython",
    "version": 3
   },
   "file_extension": ".py",
   "mimetype": "text/x-python",
   "name": "python",
   "nbconvert_exporter": "python",
   "pygments_lexer": "ipython3",
   "version": "3.9.7"
  }
 },
 "nbformat": 4,
 "nbformat_minor": 4
}
