{
 "cells": [
  {
   "cell_type": "code",
   "execution_count": 2,
   "metadata": {},
   "outputs": [
    {
     "name": "stdout",
     "output_type": "stream",
     "text": [
      "3.9.7\n"
     ]
    }
   ],
   "source": [
    "import pandas as pd\n",
    "import os\n",
    "import glob\n",
    "import matplotlib as mpl\n",
    "from datetime import datetime\n",
    "from cycler import cycler\n",
    "import math\n",
    "import numpy as np\n",
    "from PyPDF2 import PdfFileMerger\n",
    "#mpl.use('pgf')\n",
    "import matplotlib.pyplot as plt\n",
    "\n",
    "mpl.rcParams['lines.linewidth'] = 0.5\n",
    "mpl.rcParams['lines.linestyle'] = '-'\n",
    "mpl.rcParams['lines.markersize'] = 1.0\n",
    "#plt.rc('text', usetex=True)\n",
    "#plt.rc('font', family='serif')\n",
    "#plt.rcParams['pgf.preamble'] = [r'\\usepackage{hyperref} \\hypersetup{hidelinks,''colorlinks=true, urlcolor=cyan}', ]\n",
    "#plt.rcParams['pgf.preamble'] = [r'\\usepackage{hyperref}',]\n",
    "\n",
    "from platform import python_version\n",
    "\n",
    "print(python_version())"
   ]
  },
  {
   "cell_type": "code",
   "execution_count": 28,
   "metadata": {},
   "outputs": [],
   "source": [
    "if False:\n",
    "    plt.rcParams.update({\n",
    "    \"font.family\": \"serif\",  # use serif/main font for text elements\n",
    "    \"text.usetex\": True,     # use inline math for ticks\n",
    "    \"pgf.rcfonts\": False,    # don't setup fonts from rc parameters\n",
    "    \"pgf.preamble\": '\\n'.join([\n",
    "         r'\\usepackage{url}',            # load additional packages\n",
    "         r'\\usepackage{unicode-math}',   # unicode math setup\n",
    "         #r'\\setmainfont{DejaVu Serif}'',  # serif font via preamble\n",
    "         r'\\usepackage{hyperref}',\n",
    "        r'\\usepackage{pgfplots}',\n",
    "        r'\\usepgfplotslibrary{external}',\n",
    "        r'\\tikzexternalize{main}',\n",
    "        r'\\tikzsetexternalprefix{external_figs/}',\n",
    "    ])\n",
    "    })\n"
   ]
  },
  {
   "cell_type": "code",
   "execution_count": 3,
   "metadata": {},
   "outputs": [],
   "source": [
    "dir_front = \"../FE_block1_autotracks_front\"\n",
    "dir_back = \"../FE_block1_autotracks_back\"\n",
    "def filter_camera_names(list_of_names):\n",
    "    return [name for name in list_of_names if len(name)==8 and name.isnumeric()]\n",
    "cameras = filter_camera_names(os.listdir(dir_front))\n",
    "days = [name[:8] for name in os.listdir(dir_front+\"/\"+cameras[0]) if name[:8].isnumeric()]\n",
    "days.sort()\n",
    "test_b = dir_back+cameras[0]+\"/20210911_060000.23442333/23442333_20210911_060000.23442333_000004_2021-11-13T13_15_22_13428.csv\"\n",
    "\n",
    "c_idx = 0\n",
    "filenames_f = glob.glob(\"{}/{}/{}*/*.csv\".format(dir_front, cameras[c_idx], days[0]), recursive=True)\n",
    "filenames_b = glob.glob(\"{}/{}/{}*/*.csv\".format(dir_back,cameras[c_idx], days[0]), recursive=True)"
   ]
  },
  {
   "cell_type": "code",
   "execution_count": 4,
   "metadata": {},
   "outputs": [],
   "source": [
    "def read_batch_csv(filename):\n",
    "    df = pd.read_csv(filename,skiprows=3, delimiter=';', error_bad_lines=False, usecols=[\"x\", \"y\", \"time\"])\n",
    "    df.dropna(axis=0, how=\"any\", inplace=True)\n",
    "    df.reset_index(drop=True, inplace=True)\n",
    "    return df\n",
    "\n",
    "def merge_files(filenames):\n",
    "    batches = []\n",
    "    filenames.sort()\n",
    "    for f in filenames:\n",
    "        df = read_batch_csv(f)\n",
    "        batches.append(df)\n",
    "        #print(get_time_for_day(df.time[0]), get_time_for_day(df.time[len(df.time)-1]))\n",
    "    return batches\n",
    "\n",
    "\"\"\"\n",
    "@params: camera, day\n",
    "returns (front, back) csv of the day \n",
    "\"\"\"\n",
    "def csv_of_the_day(camera, day):\n",
    "    data_f = []\n",
    "    data_b = []\n",
    "    filenames_f = glob.glob(\"{}/{}/{}*/*.csv\".format(dir_front, camera, day), recursive=True)\n",
    "    filenames_b = glob.glob(\"{}/{}/{}*/*.csv\".format(dir_back, camera, day), recursive=True)\n",
    "    return (merge_files(filenames_f), merge_files(filenames_b))\n",
    "            \n",
    "            \n",
    "day1 = csv_of_the_day(cameras[0], days[0])"
   ]
  },
  {
   "cell_type": "code",
   "execution_count": 42,
   "metadata": {},
   "outputs": [],
   "source": [
    "from matplotlib.backends.backend_pdf import PdfPages\n",
    "\n",
    "def get_position_string(is_back):\n",
    "    if is_back:\n",
    "        return \"back\"\n",
    "    else:\n",
    "        return \"front\"\n",
    "\n",
    "\"\"\"\n",
    "@params days: [(folder, start_time)]\n",
    "\"\"\"\n",
    "def pdf_for_fish(camera_id,days : [(str, str)],is_back=False):\n",
    "    position_str = get_position_string(is_back)\n",
    "    \n",
    "    with PdfPages('trajectory_{}_{}_{}_{}.pdf'.format(\n",
    "        camera_id,position_str,\n",
    "        get_date_from_time(days[0][1]), \n",
    "        get_date_from_time(days[-1][1])\n",
    "    )) as pdf:\n",
    "        for day in days:\n",
    "            day_df = csv_of_the_day(camera_id, day[0])\n",
    "            fig = plot_day_camera(day_df, camera_id, is_back)\n",
    "            pdf.savefig(fig,  bbox_inches='tight')\n",
    "            \n",
    "def pdf_for_fish_tex(camera_id,days : [(str, str)],is_back=False):\n",
    "    position_str = get_position_string(is_back)\n",
    "    \n",
    "    merger = PdfFileMerger()\n",
    "    for day in days:\n",
    "        day_df = csv_of_the_day(camera_id, day[0])\n",
    "        fig = plot_day_camera(day_df, camera_id, is_back)\n",
    "        #fig.text(0.5, 0.5, r'\\href{https://stackoverflow.com/questions/}{StackOverflow '+day[0]+'}')\n",
    "        out = './out{}.pdf'.format(day[0])\n",
    "        fig.savefig(out, bbox_inches='tight')\n",
    "        merger.append(out)\n",
    "        os.remove(out)\n",
    "\n",
    "    merger.write('./trajectory_{}_{}_{}_{}.pdf'.format(\n",
    "            camera_id,\n",
    "            position_str,\n",
    "            get_date_from_time(days[0][1]), \n",
    "            get_date_from_time(days[-1][1])\n",
    "        ))\n",
    "    merger.close()"
   ]
  },
  {
   "cell_type": "code",
   "execution_count": 6,
   "metadata": {},
   "outputs": [],
   "source": [
    "m_days = map(lambda d: read_batch_csv(glob.glob(\"{}/{}/{}*/*.csv\".format(dir_front, cameras[0], d), recursive=True)[0]).time[0],days)\n",
    "days_map = list(zip(days, m_days))\n",
    "days_map.sort(key=lambda x: x[1])\n"
   ]
  },
  {
   "cell_type": "code",
   "execution_count": 44,
   "metadata": {},
   "outputs": [],
   "source": [
    "def get_time_for_day(t_stamp):\n",
    "    return datetime.fromtimestamp(t_stamp/1000.0).strftime(\"%H:%M:%S\")\n",
    "\n",
    "def get_date_from_time(t_stamp):\n",
    "    return datetime.fromtimestamp(t_stamp/1000.0).strftime(\"%Y%m%d\")\n",
    "\n",
    "def plot_day_camera(day, camera_id, is_back=False, write_single_plots=False):\n",
    "    xlim=[-5, 90]\n",
    "    ylim=[-40, 2]\n",
    "    data = day[is_back]\n",
    "    nrows=4\n",
    "    ncols=4\n",
    "        \n",
    "    position = get_position_string(is_back)\n",
    "    if is_back:\n",
    "        ylim=[-2, 40] \n",
    "    \n",
    "    fig, axis = plt.subplots(figsize=(4*ncols,2*nrows), dpi=50, nrows=nrows, ncols=ncols, sharex=True, sharey=True)\n",
    "    title=\"{}\\nTrajectory over time of the molly at\\n camera: {}\\n position: {}\".format(\n",
    "        datetime.fromtimestamp(data[0].time[0]/1000.0).strftime(\"%A, %B %d, %Y %H:%M\"),\n",
    "        camera_id,\n",
    "        position\n",
    "    )\n",
    "    fig.suptitle(title,x=0.22, y=0.85)\n",
    "    for j in range(ncols):\n",
    "        axis[-1][j].set(\n",
    "            xlabel='x coordinate',\n",
    "            xlim=xlim\n",
    "        )\n",
    "        \n",
    "    for i in range(nrows):\n",
    "        axis[i][0].set(\n",
    "            ylabel='y coordinate',\n",
    "            ylim=ylim\n",
    "        )\n",
    "        for j in range(ncols):\n",
    "            if (i == j and j == 0):\n",
    "                axis[i][j].axis('off')\n",
    "                continue\n",
    "            idx = i * ncols + j - 1\n",
    "            if idx >= len(data):\n",
    "                break\n",
    "            low, up = 0, len(data[idx].x)-1\n",
    "            label='All trajectory points front '\n",
    "            batch_size= 100\n",
    "            time_span=\"{} - {}\".format(get_time_for_day(data[idx].time[low]),get_time_for_day(data[idx].time[up]))\n",
    "            axis[i][j].set_title(time_span,fontsize=10)\n",
    "                \n",
    "        \n",
    "            for k in range(low,up, batch_size):\n",
    "                axis[i][j].plot(data[idx].x[k:k+batch_size], data[idx].y[k:k+batch_size],'b-', alpha=0.3, solid_capstyle=\"projecting\")\n",
    "    # ax.plot(day1[1].x[:limit], day1[1].y[:limit], 'r-', label='All trajectory points back ')\n",
    "    plt.close(fig)\n",
    "    return fig"
   ]
  },
  {
   "cell_type": "code",
   "execution_count": 45,
   "metadata": {},
   "outputs": [],
   "source": [
    "day_df = csv_of_the_day(cameras[0], days_map[1][0])\n",
    "fig = plot_day_camera(day_df, cameras[0], is_back=True, write_single_plots=True)\n",
    "fig.savefig(\"out_exp.pdf\")"
   ]
  },
  {
   "cell_type": "code",
   "execution_count": 47,
   "metadata": {},
   "outputs": [],
   "source": [
    "pdf_for_fish(cameras[0], days_map)"
   ]
  },
  {
   "cell_type": "code",
   "execution_count": null,
   "metadata": {},
   "outputs": [],
   "source": []
  },
  {
   "cell_type": "code",
   "execution_count": null,
   "metadata": {},
   "outputs": [],
   "source": []
  },
  {
   "cell_type": "code",
   "execution_count": null,
   "metadata": {},
   "outputs": [],
   "source": []
  },
  {
   "cell_type": "code",
   "execution_count": null,
   "metadata": {},
   "outputs": [],
   "source": []
  },
  {
   "cell_type": "code",
   "execution_count": 94,
   "metadata": {},
   "outputs": [
    {
     "data": {
      "image/png": "[encoded data removed]",
      "text/plain": [
       "<Figure size 432x288 with 1 Axes>"
      ]
     },
     "metadata": {
      "needs_background": "light"
     },
     "output_type": "display_data"
    }
   ],
   "source": [
    "h2 = plt.hist(day1[0].y, bins=100)"
   ]
  },
  {
   "cell_type": "code",
   "execution_count": null,
   "metadata": {},
   "outputs": [],
   "source": []
  }
 ],
 "metadata": {
  "kernelspec": {
   "display_name": "Python 3",
   "language": "python",
   "name": "python3"
  },
  "language_info": {
   "codemirror_mode": {
    "name": "ipython",
    "version": 3
   },
   "file_extension": ".py",
   "mimetype": "text/x-python",
   "name": "python",
   "nbconvert_exporter": "python",
   "pygments_lexer": "ipython3",
   "version": "3.9.7"
  }
 },
 "nbformat": 4,
 "nbformat_minor": 4
}
