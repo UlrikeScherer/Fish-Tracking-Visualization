{
 "cells": [
  {
   "cell_type": "code",
   "execution_count": 136,
   "metadata": {},
   "outputs": [],
   "source": [
    "import os, sys, re, glob\n",
    "\n",
    "from src.utile import *\n",
    "\n",
    "def check_foldersystem(path):\n",
    "    LOG_msg = [\"For path: %s\"%path]\n",
    "    for c in [name for name in os.listdir(path) if len(name)==8 and name.isnumeric()]:\n",
    "        for d in [name for name in os.listdir(\"{}/{}\".format(path,c)) if name[:8].isnumeric()]:\n",
    "            if \"{}.{}\".format(d[:15],c) != d:\n",
    "                LOG_msg.append(\"Day %s is not in the correct format\"%d)\n",
    "            files = glob.glob(\"{}/{}/{}/*.csv\".format(path, c, d))\n",
    "            files = [os.path.basename(f) for f in files]\n",
    "            if \"_1550\" in d: \n",
    "                if len(files) != 4:\n",
    "                    LOG_msg.append(\"In folder %s the number of csv files is unequal the expected number 4, it is %d instead\"%(\n",
    "                    \"{}/{}/{}\".format(path, c, d), len(files))\n",
    "                              )\n",
    "            elif len(files) != 15: \n",
    "                LOG_msg.append(\"In folder %s the number of csv files is unequal the expected number 15, it is %d instead\"%(\n",
    "                    \"{}/{}/{}\".format(path, c, d), len(files))\n",
    "                              )\n",
    "            files.sort()\n",
    "            i = 0\n",
    "            for f in files: \n",
    "                pattern = re.compile(\"{}_{}.{}_{:06d}_\\d*-\\d*-\\d*T\\d*_\\d*_\\d*_\\d*.csv\".format(c,d[:15],c,i))\n",
    "                if pattern.match(f) is None:\n",
    "                    LOG_msg.append(\"files: %s has corrupted name or is doublicate.\"%(f))\n",
    "                else: i+=1\n",
    "                    \n",
    "    return LOG_msg\n",
    "\n",
    "LOG, f= check_foldersystem(\"{}/{}\".format(DIR_CSV, POS_STR_BACK))"
   ]
  },
  {
   "cell_type": "code",
   "execution_count": 111,
   "metadata": {},
   "outputs": [
    {
     "data": {
      "text/plain": [
       "<re.Match object; span=(0, 70), match='23520289_20211003_060000.23520289_000013_2021-10->"
      ]
     },
     "execution_count": 111,
     "metadata": {},
     "output_type": "execute_result"
    }
   ],
   "source": [
    "c,d = get_camera_names()[0],get_days_in_order()[0]\n",
    "i=0\n",
    "pattern = re.compile(\"23520289_20211003_060000.23520289_000013_\\d*-\\d*-\\d*T\\d*_\\d*_\\d*_\\d*.csv\")\n",
    "pattern.match(f)"
   ]
  },
  {
   "cell_type": "code",
   "execution_count": 139,
   "metadata": {},
   "outputs": [
    {
     "data": {
      "text/plain": [
       "'/Volumes/data/loopbio_data/FE_(fingerprint_experiment)_SepDec2021/FE_tracks_original/FE_tracks_060000/FE_tracks_060000_block1/FE_060000_tracks_block1_front'"
      ]
     },
     "execution_count": 139,
     "metadata": {},
     "output_type": "execute_result"
    }
   ],
   "source": [
    "p = re.compile(\"\\d*_\\d*\")\n",
    "p.match(\"90_90\")\n",
    "\"{}/{}\".format(DIR_CSV, POS_STR_FRONT)"
   ]
  },
  {
   "cell_type": "code",
   "execution_count": 141,
   "metadata": {},
   "outputs": [],
   "source": [
    "f = open(\"demofile3.txt\", \"w\")\n",
    "f.writelines(\"\\n\".join(LOG) )\n"
   ]
  },
  {
   "cell_type": "code",
   "execution_count": 1,
   "metadata": {},
   "outputs": [],
   "source": [
    "from src.utile import *"
   ]
  },
  {
   "cell_type": "code",
   "execution_count": 3,
   "metadata": {},
   "outputs": [
    {
     "data": {
      "text/plain": [
       "5"
      ]
     },
     "execution_count": 3,
     "metadata": {},
     "output_type": "execute_result"
    }
   ],
   "source": [
    "get_camera_pos_keys().index(\"23520264_back\")"
   ]
  },
  {
   "cell_type": "code",
   "execution_count": null,
   "metadata": {},
   "outputs": [],
   "source": []
  }
 ],
 "metadata": {
  "kernelspec": {
   "display_name": "Python 3",
   "language": "python",
   "name": "python3"
  },
  "language_info": {
   "codemirror_mode": {
    "name": "ipython",
    "version": 3
   },
   "file_extension": ".py",
   "mimetype": "text/x-python",
   "name": "python",
   "nbconvert_exporter": "python",
   "pygments_lexer": "ipython3",
   "version": "3.9.12"
  }
 },
 "nbformat": 4,
 "nbformat_minor": 4
}
